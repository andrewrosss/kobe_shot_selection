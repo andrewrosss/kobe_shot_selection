{
 "cells": [
  {
   "cell_type": "markdown",
   "metadata": {},
   "source": [
    "# Kobe Shot Selection Neural Network"
   ]
  },
  {
   "cell_type": "code",
   "execution_count": 1,
   "metadata": {
    "collapsed": true
   },
   "outputs": [],
   "source": [
    "import pandas as pd\n",
    "import numpy as np"
   ]
  },
  {
   "cell_type": "code",
   "execution_count": 2,
   "metadata": {
    "collapsed": true
   },
   "outputs": [],
   "source": [
    "import tensorflow as tf\n",
    "import tflearn\n",
    "from tflearn.data_utils import to_categorical"
   ]
  },
  {
   "cell_type": "code",
   "execution_count": 3,
   "metadata": {
    "collapsed": true
   },
   "outputs": [],
   "source": [
    "from sklearn.naive_bayes import GaussianNB\n",
    "from sklearn.metrics import accuracy_score"
   ]
  },
  {
   "cell_type": "markdown",
   "metadata": {},
   "source": [
    "## Preprocess the data\n",
    "\n",
    "Before we implement any models, we first load and preprocess the data. \n",
    "\n",
    "So lets load the data from file and have a look."
   ]
  },
  {
   "cell_type": "code",
   "execution_count": 4,
   "metadata": {},
   "outputs": [
    {
     "data": {
      "text/html": [
       "<div>\n",
       "<table border=\"1\" class=\"dataframe\">\n",
       "  <thead>\n",
       "    <tr style=\"text-align: right;\">\n",
       "      <th></th>\n",
       "      <th>action_type</th>\n",
       "      <th>combined_shot_type</th>\n",
       "      <th>game_event_id</th>\n",
       "      <th>game_id</th>\n",
       "      <th>lat</th>\n",
       "      <th>loc_x</th>\n",
       "      <th>loc_y</th>\n",
       "      <th>lon</th>\n",
       "      <th>minutes_remaining</th>\n",
       "      <th>period</th>\n",
       "      <th>...</th>\n",
       "      <th>shot_type</th>\n",
       "      <th>shot_zone_area</th>\n",
       "      <th>shot_zone_basic</th>\n",
       "      <th>shot_zone_range</th>\n",
       "      <th>team_id</th>\n",
       "      <th>team_name</th>\n",
       "      <th>game_date</th>\n",
       "      <th>matchup</th>\n",
       "      <th>opponent</th>\n",
       "      <th>shot_id</th>\n",
       "    </tr>\n",
       "  </thead>\n",
       "  <tbody>\n",
       "    <tr>\n",
       "      <th>0</th>\n",
       "      <td>Jump Shot</td>\n",
       "      <td>Jump Shot</td>\n",
       "      <td>10</td>\n",
       "      <td>20000012</td>\n",
       "      <td>33.9723</td>\n",
       "      <td>167</td>\n",
       "      <td>72</td>\n",
       "      <td>-118.1028</td>\n",
       "      <td>10</td>\n",
       "      <td>1</td>\n",
       "      <td>...</td>\n",
       "      <td>2PT Field Goal</td>\n",
       "      <td>Right Side(R)</td>\n",
       "      <td>Mid-Range</td>\n",
       "      <td>16-24 ft.</td>\n",
       "      <td>1610612747</td>\n",
       "      <td>Los Angeles Lakers</td>\n",
       "      <td>2000-10-31</td>\n",
       "      <td>LAL @ POR</td>\n",
       "      <td>POR</td>\n",
       "      <td>1</td>\n",
       "    </tr>\n",
       "    <tr>\n",
       "      <th>1</th>\n",
       "      <td>Jump Shot</td>\n",
       "      <td>Jump Shot</td>\n",
       "      <td>12</td>\n",
       "      <td>20000012</td>\n",
       "      <td>34.0443</td>\n",
       "      <td>-157</td>\n",
       "      <td>0</td>\n",
       "      <td>-118.4268</td>\n",
       "      <td>10</td>\n",
       "      <td>1</td>\n",
       "      <td>...</td>\n",
       "      <td>2PT Field Goal</td>\n",
       "      <td>Left Side(L)</td>\n",
       "      <td>Mid-Range</td>\n",
       "      <td>8-16 ft.</td>\n",
       "      <td>1610612747</td>\n",
       "      <td>Los Angeles Lakers</td>\n",
       "      <td>2000-10-31</td>\n",
       "      <td>LAL @ POR</td>\n",
       "      <td>POR</td>\n",
       "      <td>2</td>\n",
       "    </tr>\n",
       "    <tr>\n",
       "      <th>2</th>\n",
       "      <td>Jump Shot</td>\n",
       "      <td>Jump Shot</td>\n",
       "      <td>35</td>\n",
       "      <td>20000012</td>\n",
       "      <td>33.9093</td>\n",
       "      <td>-101</td>\n",
       "      <td>135</td>\n",
       "      <td>-118.3708</td>\n",
       "      <td>7</td>\n",
       "      <td>1</td>\n",
       "      <td>...</td>\n",
       "      <td>2PT Field Goal</td>\n",
       "      <td>Left Side Center(LC)</td>\n",
       "      <td>Mid-Range</td>\n",
       "      <td>16-24 ft.</td>\n",
       "      <td>1610612747</td>\n",
       "      <td>Los Angeles Lakers</td>\n",
       "      <td>2000-10-31</td>\n",
       "      <td>LAL @ POR</td>\n",
       "      <td>POR</td>\n",
       "      <td>3</td>\n",
       "    </tr>\n",
       "    <tr>\n",
       "      <th>3</th>\n",
       "      <td>Jump Shot</td>\n",
       "      <td>Jump Shot</td>\n",
       "      <td>43</td>\n",
       "      <td>20000012</td>\n",
       "      <td>33.8693</td>\n",
       "      <td>138</td>\n",
       "      <td>175</td>\n",
       "      <td>-118.1318</td>\n",
       "      <td>6</td>\n",
       "      <td>1</td>\n",
       "      <td>...</td>\n",
       "      <td>2PT Field Goal</td>\n",
       "      <td>Right Side Center(RC)</td>\n",
       "      <td>Mid-Range</td>\n",
       "      <td>16-24 ft.</td>\n",
       "      <td>1610612747</td>\n",
       "      <td>Los Angeles Lakers</td>\n",
       "      <td>2000-10-31</td>\n",
       "      <td>LAL @ POR</td>\n",
       "      <td>POR</td>\n",
       "      <td>4</td>\n",
       "    </tr>\n",
       "    <tr>\n",
       "      <th>4</th>\n",
       "      <td>Driving Dunk Shot</td>\n",
       "      <td>Dunk</td>\n",
       "      <td>155</td>\n",
       "      <td>20000012</td>\n",
       "      <td>34.0443</td>\n",
       "      <td>0</td>\n",
       "      <td>0</td>\n",
       "      <td>-118.2698</td>\n",
       "      <td>6</td>\n",
       "      <td>2</td>\n",
       "      <td>...</td>\n",
       "      <td>2PT Field Goal</td>\n",
       "      <td>Center(C)</td>\n",
       "      <td>Restricted Area</td>\n",
       "      <td>Less Than 8 ft.</td>\n",
       "      <td>1610612747</td>\n",
       "      <td>Los Angeles Lakers</td>\n",
       "      <td>2000-10-31</td>\n",
       "      <td>LAL @ POR</td>\n",
       "      <td>POR</td>\n",
       "      <td>5</td>\n",
       "    </tr>\n",
       "  </tbody>\n",
       "</table>\n",
       "<p>5 rows × 25 columns</p>\n",
       "</div>"
      ],
      "text/plain": [
       "         action_type combined_shot_type  game_event_id   game_id      lat  \\\n",
       "0          Jump Shot          Jump Shot             10  20000012  33.9723   \n",
       "1          Jump Shot          Jump Shot             12  20000012  34.0443   \n",
       "2          Jump Shot          Jump Shot             35  20000012  33.9093   \n",
       "3          Jump Shot          Jump Shot             43  20000012  33.8693   \n",
       "4  Driving Dunk Shot               Dunk            155  20000012  34.0443   \n",
       "\n",
       "   loc_x  loc_y       lon  minutes_remaining  period   ...          shot_type  \\\n",
       "0    167     72 -118.1028                 10       1   ...     2PT Field Goal   \n",
       "1   -157      0 -118.4268                 10       1   ...     2PT Field Goal   \n",
       "2   -101    135 -118.3708                  7       1   ...     2PT Field Goal   \n",
       "3    138    175 -118.1318                  6       1   ...     2PT Field Goal   \n",
       "4      0      0 -118.2698                  6       2   ...     2PT Field Goal   \n",
       "\n",
       "          shot_zone_area  shot_zone_basic  shot_zone_range     team_id  \\\n",
       "0          Right Side(R)        Mid-Range        16-24 ft.  1610612747   \n",
       "1           Left Side(L)        Mid-Range         8-16 ft.  1610612747   \n",
       "2   Left Side Center(LC)        Mid-Range        16-24 ft.  1610612747   \n",
       "3  Right Side Center(RC)        Mid-Range        16-24 ft.  1610612747   \n",
       "4              Center(C)  Restricted Area  Less Than 8 ft.  1610612747   \n",
       "\n",
       "            team_name   game_date    matchup opponent  shot_id  \n",
       "0  Los Angeles Lakers  2000-10-31  LAL @ POR      POR        1  \n",
       "1  Los Angeles Lakers  2000-10-31  LAL @ POR      POR        2  \n",
       "2  Los Angeles Lakers  2000-10-31  LAL @ POR      POR        3  \n",
       "3  Los Angeles Lakers  2000-10-31  LAL @ POR      POR        4  \n",
       "4  Los Angeles Lakers  2000-10-31  LAL @ POR      POR        5  \n",
       "\n",
       "[5 rows x 25 columns]"
      ]
     },
     "execution_count": 4,
     "metadata": {},
     "output_type": "execute_result"
    }
   ],
   "source": [
    "data = pd.read_csv('data.csv')\n",
    "data.head()"
   ]
  },
  {
   "cell_type": "markdown",
   "metadata": {},
   "source": [
    "Next we'll check out the features we have at our disposal"
   ]
  },
  {
   "cell_type": "code",
   "execution_count": 5,
   "metadata": {},
   "outputs": [
    {
     "data": {
      "text/plain": [
       "['action_type',\n",
       " 'combined_shot_type',\n",
       " 'game_event_id',\n",
       " 'game_id',\n",
       " 'lat',\n",
       " 'loc_x',\n",
       " 'loc_y',\n",
       " 'lon',\n",
       " 'minutes_remaining',\n",
       " 'period',\n",
       " 'playoffs',\n",
       " 'season',\n",
       " 'seconds_remaining',\n",
       " 'shot_distance',\n",
       " 'shot_made_flag',\n",
       " 'shot_type',\n",
       " 'shot_zone_area',\n",
       " 'shot_zone_basic',\n",
       " 'shot_zone_range',\n",
       " 'team_id',\n",
       " 'team_name',\n",
       " 'game_date',\n",
       " 'matchup',\n",
       " 'opponent',\n",
       " 'shot_id']"
      ]
     },
     "execution_count": 5,
     "metadata": {},
     "output_type": "execute_result"
    }
   ],
   "source": [
    "list(data)"
   ]
  },
  {
   "cell_type": "markdown",
   "metadata": {},
   "source": [
    "`shot_made_flag` is what we'd like to predict, however there have been about 5000 of these entries left out of the data set, so first we'll go through and clean out all the rows/instances which don't have a shot label"
   ]
  },
  {
   "cell_type": "code",
   "execution_count": 6,
   "metadata": {},
   "outputs": [
    {
     "data": {
      "text/plain": [
       "1     0.0\n",
       "2     1.0\n",
       "3     0.0\n",
       "4     1.0\n",
       "5     0.0\n",
       "6     1.0\n",
       "8     1.0\n",
       "9     0.0\n",
       "10    0.0\n",
       "11    1.0\n",
       "12    1.0\n",
       "13    0.0\n",
       "14    0.0\n",
       "15    0.0\n",
       "17    1.0\n",
       "Name: shot_made_flag, dtype: float64"
      ]
     },
     "execution_count": 6,
     "metadata": {},
     "output_type": "execute_result"
    }
   ],
   "source": [
    "data = data[pd.notnull(data.shot_made_flag)]\n",
    "data.shot_made_flag[:15]"
   ]
  },
  {
   "cell_type": "markdown",
   "metadata": {},
   "source": [
    "Thats a bit better. Let's clean up the indices and do some more trimming of the feature space. "
   ]
  },
  {
   "cell_type": "code",
   "execution_count": 9,
   "metadata": {},
   "outputs": [],
   "source": [
    "data.index = range(len(data))"
   ]
  },
  {
   "cell_type": "markdown",
   "metadata": {},
   "source": [
    "### Pruning Features\n",
    "\n",
    "It seems a bit redundant to have both the `action_type` and the `combined_shot_type` features (however, this might not be the case - this could be changed later on), in particular, the `action_type` seems like a more fine grained version of `combined_shot_type`, so we'll get rid of the `combined_shot_type` feature. "
   ]
  },
  {
   "cell_type": "code",
   "execution_count": 10,
   "metadata": {
    "collapsed": true
   },
   "outputs": [],
   "source": [
    "data = data.drop('combined_shot_type', axis=1)"
   ]
  },
  {
   "cell_type": "markdown",
   "metadata": {},
   "source": [
    "The `game_id` seems irrelevant - a case can be made that this feature gives information regarding the fact that some shots are from the same game and some from others, but for now we'll drop that one. The `game_event_id` also seems irrelevant, however it does provide some indication as to how far into a given game we are. I think we'll try rescaling this feature between 0 (start of the game) and 1 (end of the game) - we'll do this later on."
   ]
  },
  {
   "cell_type": "code",
   "execution_count": 11,
   "metadata": {
    "collapsed": true
   },
   "outputs": [],
   "source": [
    "data = data.drop('game_id', axis=1)"
   ]
  },
  {
   "cell_type": "markdown",
   "metadata": {},
   "source": [
    "The `team_id` and `team_name` features are constant and not useful - we'll remove those. The `shot_id` seems useless being just an enumeration of all of Kobe's shots, however, like `game_event_id` this is an indication as to how far into kobe's career the shot was taken - we would expect players shots to improve, plateau and decline through out the course of their careers - so we'll leave that feature in."
   ]
  },
  {
   "cell_type": "code",
   "execution_count": 12,
   "metadata": {
    "collapsed": true
   },
   "outputs": [],
   "source": [
    "data = data.drop(['team_id', 'team_name'], axis=1)"
   ]
  },
  {
   "cell_type": "markdown",
   "metadata": {},
   "source": [
    "Lastly, we'll drop the date, only because I need to find a nice way to incorporate it ..."
   ]
  },
  {
   "cell_type": "code",
   "execution_count": 13,
   "metadata": {},
   "outputs": [
    {
     "data": {
      "text/html": [
       "<div>\n",
       "<table border=\"1\" class=\"dataframe\">\n",
       "  <thead>\n",
       "    <tr style=\"text-align: right;\">\n",
       "      <th></th>\n",
       "      <th>action_type</th>\n",
       "      <th>game_event_id</th>\n",
       "      <th>lat</th>\n",
       "      <th>loc_x</th>\n",
       "      <th>loc_y</th>\n",
       "      <th>lon</th>\n",
       "      <th>minutes_remaining</th>\n",
       "      <th>period</th>\n",
       "      <th>playoffs</th>\n",
       "      <th>season</th>\n",
       "      <th>seconds_remaining</th>\n",
       "      <th>shot_distance</th>\n",
       "      <th>shot_made_flag</th>\n",
       "      <th>shot_type</th>\n",
       "      <th>shot_zone_area</th>\n",
       "      <th>shot_zone_basic</th>\n",
       "      <th>shot_zone_range</th>\n",
       "      <th>matchup</th>\n",
       "      <th>opponent</th>\n",
       "      <th>shot_id</th>\n",
       "    </tr>\n",
       "  </thead>\n",
       "  <tbody>\n",
       "    <tr>\n",
       "      <th>0</th>\n",
       "      <td>Jump Shot</td>\n",
       "      <td>12</td>\n",
       "      <td>34.0443</td>\n",
       "      <td>-157</td>\n",
       "      <td>0</td>\n",
       "      <td>-118.4268</td>\n",
       "      <td>10</td>\n",
       "      <td>1</td>\n",
       "      <td>0</td>\n",
       "      <td>2000-01</td>\n",
       "      <td>22</td>\n",
       "      <td>15</td>\n",
       "      <td>0.0</td>\n",
       "      <td>2PT Field Goal</td>\n",
       "      <td>Left Side(L)</td>\n",
       "      <td>Mid-Range</td>\n",
       "      <td>8-16 ft.</td>\n",
       "      <td>LAL @ POR</td>\n",
       "      <td>POR</td>\n",
       "      <td>2</td>\n",
       "    </tr>\n",
       "    <tr>\n",
       "      <th>1</th>\n",
       "      <td>Jump Shot</td>\n",
       "      <td>35</td>\n",
       "      <td>33.9093</td>\n",
       "      <td>-101</td>\n",
       "      <td>135</td>\n",
       "      <td>-118.3708</td>\n",
       "      <td>7</td>\n",
       "      <td>1</td>\n",
       "      <td>0</td>\n",
       "      <td>2000-01</td>\n",
       "      <td>45</td>\n",
       "      <td>16</td>\n",
       "      <td>1.0</td>\n",
       "      <td>2PT Field Goal</td>\n",
       "      <td>Left Side Center(LC)</td>\n",
       "      <td>Mid-Range</td>\n",
       "      <td>16-24 ft.</td>\n",
       "      <td>LAL @ POR</td>\n",
       "      <td>POR</td>\n",
       "      <td>3</td>\n",
       "    </tr>\n",
       "    <tr>\n",
       "      <th>2</th>\n",
       "      <td>Jump Shot</td>\n",
       "      <td>43</td>\n",
       "      <td>33.8693</td>\n",
       "      <td>138</td>\n",
       "      <td>175</td>\n",
       "      <td>-118.1318</td>\n",
       "      <td>6</td>\n",
       "      <td>1</td>\n",
       "      <td>0</td>\n",
       "      <td>2000-01</td>\n",
       "      <td>52</td>\n",
       "      <td>22</td>\n",
       "      <td>0.0</td>\n",
       "      <td>2PT Field Goal</td>\n",
       "      <td>Right Side Center(RC)</td>\n",
       "      <td>Mid-Range</td>\n",
       "      <td>16-24 ft.</td>\n",
       "      <td>LAL @ POR</td>\n",
       "      <td>POR</td>\n",
       "      <td>4</td>\n",
       "    </tr>\n",
       "    <tr>\n",
       "      <th>3</th>\n",
       "      <td>Driving Dunk Shot</td>\n",
       "      <td>155</td>\n",
       "      <td>34.0443</td>\n",
       "      <td>0</td>\n",
       "      <td>0</td>\n",
       "      <td>-118.2698</td>\n",
       "      <td>6</td>\n",
       "      <td>2</td>\n",
       "      <td>0</td>\n",
       "      <td>2000-01</td>\n",
       "      <td>19</td>\n",
       "      <td>0</td>\n",
       "      <td>1.0</td>\n",
       "      <td>2PT Field Goal</td>\n",
       "      <td>Center(C)</td>\n",
       "      <td>Restricted Area</td>\n",
       "      <td>Less Than 8 ft.</td>\n",
       "      <td>LAL @ POR</td>\n",
       "      <td>POR</td>\n",
       "      <td>5</td>\n",
       "    </tr>\n",
       "    <tr>\n",
       "      <th>4</th>\n",
       "      <td>Jump Shot</td>\n",
       "      <td>244</td>\n",
       "      <td>34.0553</td>\n",
       "      <td>-145</td>\n",
       "      <td>-11</td>\n",
       "      <td>-118.4148</td>\n",
       "      <td>9</td>\n",
       "      <td>3</td>\n",
       "      <td>0</td>\n",
       "      <td>2000-01</td>\n",
       "      <td>32</td>\n",
       "      <td>14</td>\n",
       "      <td>0.0</td>\n",
       "      <td>2PT Field Goal</td>\n",
       "      <td>Left Side(L)</td>\n",
       "      <td>Mid-Range</td>\n",
       "      <td>8-16 ft.</td>\n",
       "      <td>LAL @ POR</td>\n",
       "      <td>POR</td>\n",
       "      <td>6</td>\n",
       "    </tr>\n",
       "  </tbody>\n",
       "</table>\n",
       "</div>"
      ],
      "text/plain": [
       "         action_type  game_event_id      lat  loc_x  loc_y       lon  \\\n",
       "0          Jump Shot             12  34.0443   -157      0 -118.4268   \n",
       "1          Jump Shot             35  33.9093   -101    135 -118.3708   \n",
       "2          Jump Shot             43  33.8693    138    175 -118.1318   \n",
       "3  Driving Dunk Shot            155  34.0443      0      0 -118.2698   \n",
       "4          Jump Shot            244  34.0553   -145    -11 -118.4148   \n",
       "\n",
       "   minutes_remaining  period  playoffs   season  seconds_remaining  \\\n",
       "0                 10       1         0  2000-01                 22   \n",
       "1                  7       1         0  2000-01                 45   \n",
       "2                  6       1         0  2000-01                 52   \n",
       "3                  6       2         0  2000-01                 19   \n",
       "4                  9       3         0  2000-01                 32   \n",
       "\n",
       "   shot_distance  shot_made_flag       shot_type         shot_zone_area  \\\n",
       "0             15             0.0  2PT Field Goal           Left Side(L)   \n",
       "1             16             1.0  2PT Field Goal   Left Side Center(LC)   \n",
       "2             22             0.0  2PT Field Goal  Right Side Center(RC)   \n",
       "3              0             1.0  2PT Field Goal              Center(C)   \n",
       "4             14             0.0  2PT Field Goal           Left Side(L)   \n",
       "\n",
       "   shot_zone_basic  shot_zone_range    matchup opponent  shot_id  \n",
       "0        Mid-Range         8-16 ft.  LAL @ POR      POR        2  \n",
       "1        Mid-Range        16-24 ft.  LAL @ POR      POR        3  \n",
       "2        Mid-Range        16-24 ft.  LAL @ POR      POR        4  \n",
       "3  Restricted Area  Less Than 8 ft.  LAL @ POR      POR        5  \n",
       "4        Mid-Range         8-16 ft.  LAL @ POR      POR        6  "
      ]
     },
     "execution_count": 13,
     "metadata": {},
     "output_type": "execute_result"
    }
   ],
   "source": [
    "data = data.drop('game_date', axis=1)\n",
    "data.head()"
   ]
  },
  {
   "cell_type": "markdown",
   "metadata": {},
   "source": [
    "### Dummy variables\n",
    "\n",
    "we have some categorical variables like `action_type`, `period`, etc. which we convert to dummy indicator variables using `pd.get_dummies()`. This converts our data set from being one with 18 input features to one with 219 input features. "
   ]
  },
  {
   "cell_type": "code",
   "execution_count": 14,
   "metadata": {},
   "outputs": [
    {
     "data": {
      "text/html": [
       "<div>\n",
       "<table border=\"1\" class=\"dataframe\">\n",
       "  <thead>\n",
       "    <tr style=\"text-align: right;\">\n",
       "      <th></th>\n",
       "      <th>game_event_id</th>\n",
       "      <th>lat</th>\n",
       "      <th>loc_x</th>\n",
       "      <th>loc_y</th>\n",
       "      <th>lon</th>\n",
       "      <th>minutes_remaining</th>\n",
       "      <th>playoffs</th>\n",
       "      <th>seconds_remaining</th>\n",
       "      <th>shot_distance</th>\n",
       "      <th>shot_made_flag</th>\n",
       "      <th>...</th>\n",
       "      <th>opponent_PHI</th>\n",
       "      <th>opponent_PHX</th>\n",
       "      <th>opponent_POR</th>\n",
       "      <th>opponent_SAC</th>\n",
       "      <th>opponent_SAS</th>\n",
       "      <th>opponent_SEA</th>\n",
       "      <th>opponent_TOR</th>\n",
       "      <th>opponent_UTA</th>\n",
       "      <th>opponent_VAN</th>\n",
       "      <th>opponent_WAS</th>\n",
       "    </tr>\n",
       "  </thead>\n",
       "  <tbody>\n",
       "    <tr>\n",
       "      <th>0</th>\n",
       "      <td>12</td>\n",
       "      <td>34.0443</td>\n",
       "      <td>-157</td>\n",
       "      <td>0</td>\n",
       "      <td>-118.4268</td>\n",
       "      <td>10</td>\n",
       "      <td>0</td>\n",
       "      <td>22</td>\n",
       "      <td>15</td>\n",
       "      <td>0.0</td>\n",
       "      <td>...</td>\n",
       "      <td>0</td>\n",
       "      <td>0</td>\n",
       "      <td>1</td>\n",
       "      <td>0</td>\n",
       "      <td>0</td>\n",
       "      <td>0</td>\n",
       "      <td>0</td>\n",
       "      <td>0</td>\n",
       "      <td>0</td>\n",
       "      <td>0</td>\n",
       "    </tr>\n",
       "    <tr>\n",
       "      <th>1</th>\n",
       "      <td>35</td>\n",
       "      <td>33.9093</td>\n",
       "      <td>-101</td>\n",
       "      <td>135</td>\n",
       "      <td>-118.3708</td>\n",
       "      <td>7</td>\n",
       "      <td>0</td>\n",
       "      <td>45</td>\n",
       "      <td>16</td>\n",
       "      <td>1.0</td>\n",
       "      <td>...</td>\n",
       "      <td>0</td>\n",
       "      <td>0</td>\n",
       "      <td>1</td>\n",
       "      <td>0</td>\n",
       "      <td>0</td>\n",
       "      <td>0</td>\n",
       "      <td>0</td>\n",
       "      <td>0</td>\n",
       "      <td>0</td>\n",
       "      <td>0</td>\n",
       "    </tr>\n",
       "    <tr>\n",
       "      <th>2</th>\n",
       "      <td>43</td>\n",
       "      <td>33.8693</td>\n",
       "      <td>138</td>\n",
       "      <td>175</td>\n",
       "      <td>-118.1318</td>\n",
       "      <td>6</td>\n",
       "      <td>0</td>\n",
       "      <td>52</td>\n",
       "      <td>22</td>\n",
       "      <td>0.0</td>\n",
       "      <td>...</td>\n",
       "      <td>0</td>\n",
       "      <td>0</td>\n",
       "      <td>1</td>\n",
       "      <td>0</td>\n",
       "      <td>0</td>\n",
       "      <td>0</td>\n",
       "      <td>0</td>\n",
       "      <td>0</td>\n",
       "      <td>0</td>\n",
       "      <td>0</td>\n",
       "    </tr>\n",
       "    <tr>\n",
       "      <th>3</th>\n",
       "      <td>155</td>\n",
       "      <td>34.0443</td>\n",
       "      <td>0</td>\n",
       "      <td>0</td>\n",
       "      <td>-118.2698</td>\n",
       "      <td>6</td>\n",
       "      <td>0</td>\n",
       "      <td>19</td>\n",
       "      <td>0</td>\n",
       "      <td>1.0</td>\n",
       "      <td>...</td>\n",
       "      <td>0</td>\n",
       "      <td>0</td>\n",
       "      <td>1</td>\n",
       "      <td>0</td>\n",
       "      <td>0</td>\n",
       "      <td>0</td>\n",
       "      <td>0</td>\n",
       "      <td>0</td>\n",
       "      <td>0</td>\n",
       "      <td>0</td>\n",
       "    </tr>\n",
       "    <tr>\n",
       "      <th>4</th>\n",
       "      <td>244</td>\n",
       "      <td>34.0553</td>\n",
       "      <td>-145</td>\n",
       "      <td>-11</td>\n",
       "      <td>-118.4148</td>\n",
       "      <td>9</td>\n",
       "      <td>0</td>\n",
       "      <td>32</td>\n",
       "      <td>14</td>\n",
       "      <td>0.0</td>\n",
       "      <td>...</td>\n",
       "      <td>0</td>\n",
       "      <td>0</td>\n",
       "      <td>1</td>\n",
       "      <td>0</td>\n",
       "      <td>0</td>\n",
       "      <td>0</td>\n",
       "      <td>0</td>\n",
       "      <td>0</td>\n",
       "      <td>0</td>\n",
       "      <td>0</td>\n",
       "    </tr>\n",
       "  </tbody>\n",
       "</table>\n",
       "<p>5 rows × 220 columns</p>\n",
       "</div>"
      ],
      "text/plain": [
       "   game_event_id      lat  loc_x  loc_y       lon  minutes_remaining  \\\n",
       "0             12  34.0443   -157      0 -118.4268                 10   \n",
       "1             35  33.9093   -101    135 -118.3708                  7   \n",
       "2             43  33.8693    138    175 -118.1318                  6   \n",
       "3            155  34.0443      0      0 -118.2698                  6   \n",
       "4            244  34.0553   -145    -11 -118.4148                  9   \n",
       "\n",
       "   playoffs  seconds_remaining  shot_distance  shot_made_flag      ...       \\\n",
       "0         0                 22             15             0.0      ...        \n",
       "1         0                 45             16             1.0      ...        \n",
       "2         0                 52             22             0.0      ...        \n",
       "3         0                 19              0             1.0      ...        \n",
       "4         0                 32             14             0.0      ...        \n",
       "\n",
       "   opponent_PHI  opponent_PHX  opponent_POR  opponent_SAC  opponent_SAS  \\\n",
       "0             0             0             1             0             0   \n",
       "1             0             0             1             0             0   \n",
       "2             0             0             1             0             0   \n",
       "3             0             0             1             0             0   \n",
       "4             0             0             1             0             0   \n",
       "\n",
       "   opponent_SEA  opponent_TOR  opponent_UTA  opponent_VAN  opponent_WAS  \n",
       "0             0             0             0             0             0  \n",
       "1             0             0             0             0             0  \n",
       "2             0             0             0             0             0  \n",
       "3             0             0             0             0             0  \n",
       "4             0             0             0             0             0  \n",
       "\n",
       "[5 rows x 220 columns]"
      ]
     },
     "execution_count": 14,
     "metadata": {},
     "output_type": "execute_result"
    }
   ],
   "source": [
    "dummy_fields = ['action_type', 'period', 'season', 'shot_type', 'shot_zone_area', \\\n",
    "                'shot_zone_basic', 'shot_zone_range', 'matchup', 'opponent']\n",
    "for each in dummy_fields:\n",
    "    dummies = pd.get_dummies(data[each], prefix=each, drop_first=False)\n",
    "    data = pd.concat([data, dummies], axis=1)\n",
    "\n",
    "data = data.drop(dummy_fields, axis=1)\n",
    "data.head()"
   ]
  },
  {
   "cell_type": "markdown",
   "metadata": {},
   "source": [
    "### Scaling Continuous Variables\n",
    "\n",
    "To help the network train we scale `lat`, `loc_x`, `loc_y` and `lon` to have mean 0 and standard deviation 1. "
   ]
  },
  {
   "cell_type": "code",
   "execution_count": 15,
   "metadata": {},
   "outputs": [
    {
     "data": {
      "text/html": [
       "<div>\n",
       "<table border=\"1\" class=\"dataframe\">\n",
       "  <thead>\n",
       "    <tr style=\"text-align: right;\">\n",
       "      <th></th>\n",
       "      <th>game_event_id</th>\n",
       "      <th>lat</th>\n",
       "      <th>loc_x</th>\n",
       "      <th>loc_y</th>\n",
       "      <th>lon</th>\n",
       "      <th>minutes_remaining</th>\n",
       "      <th>playoffs</th>\n",
       "      <th>seconds_remaining</th>\n",
       "      <th>shot_distance</th>\n",
       "      <th>shot_made_flag</th>\n",
       "      <th>...</th>\n",
       "      <th>opponent_PHI</th>\n",
       "      <th>opponent_PHX</th>\n",
       "      <th>opponent_POR</th>\n",
       "      <th>opponent_SAC</th>\n",
       "      <th>opponent_SAS</th>\n",
       "      <th>opponent_SEA</th>\n",
       "      <th>opponent_TOR</th>\n",
       "      <th>opponent_UTA</th>\n",
       "      <th>opponent_VAN</th>\n",
       "      <th>opponent_WAS</th>\n",
       "    </tr>\n",
       "  </thead>\n",
       "  <tbody>\n",
       "    <tr>\n",
       "      <th>0</th>\n",
       "      <td>12</td>\n",
       "      <td>1.035226</td>\n",
       "      <td>-1.491267</td>\n",
       "      <td>-1.035226</td>\n",
       "      <td>-1.491267</td>\n",
       "      <td>10</td>\n",
       "      <td>0</td>\n",
       "      <td>22</td>\n",
       "      <td>15</td>\n",
       "      <td>0.0</td>\n",
       "      <td>...</td>\n",
       "      <td>0</td>\n",
       "      <td>0</td>\n",
       "      <td>1</td>\n",
       "      <td>0</td>\n",
       "      <td>0</td>\n",
       "      <td>0</td>\n",
       "      <td>0</td>\n",
       "      <td>0</td>\n",
       "      <td>0</td>\n",
       "      <td>0</td>\n",
       "    </tr>\n",
       "    <tr>\n",
       "      <th>1</th>\n",
       "      <td>35</td>\n",
       "      <td>-0.496218</td>\n",
       "      <td>-0.982514</td>\n",
       "      <td>0.496218</td>\n",
       "      <td>-0.982514</td>\n",
       "      <td>7</td>\n",
       "      <td>0</td>\n",
       "      <td>45</td>\n",
       "      <td>16</td>\n",
       "      <td>1.0</td>\n",
       "      <td>...</td>\n",
       "      <td>0</td>\n",
       "      <td>0</td>\n",
       "      <td>1</td>\n",
       "      <td>0</td>\n",
       "      <td>0</td>\n",
       "      <td>0</td>\n",
       "      <td>0</td>\n",
       "      <td>0</td>\n",
       "      <td>0</td>\n",
       "      <td>0</td>\n",
       "    </tr>\n",
       "    <tr>\n",
       "      <th>2</th>\n",
       "      <td>43</td>\n",
       "      <td>-0.949979</td>\n",
       "      <td>1.188769</td>\n",
       "      <td>0.949979</td>\n",
       "      <td>1.188769</td>\n",
       "      <td>6</td>\n",
       "      <td>0</td>\n",
       "      <td>52</td>\n",
       "      <td>22</td>\n",
       "      <td>0.0</td>\n",
       "      <td>...</td>\n",
       "      <td>0</td>\n",
       "      <td>0</td>\n",
       "      <td>1</td>\n",
       "      <td>0</td>\n",
       "      <td>0</td>\n",
       "      <td>0</td>\n",
       "      <td>0</td>\n",
       "      <td>0</td>\n",
       "      <td>0</td>\n",
       "      <td>0</td>\n",
       "    </tr>\n",
       "    <tr>\n",
       "      <th>3</th>\n",
       "      <td>155</td>\n",
       "      <td>1.035226</td>\n",
       "      <td>-0.064942</td>\n",
       "      <td>-1.035226</td>\n",
       "      <td>-0.064942</td>\n",
       "      <td>6</td>\n",
       "      <td>0</td>\n",
       "      <td>19</td>\n",
       "      <td>0</td>\n",
       "      <td>1.0</td>\n",
       "      <td>...</td>\n",
       "      <td>0</td>\n",
       "      <td>0</td>\n",
       "      <td>1</td>\n",
       "      <td>0</td>\n",
       "      <td>0</td>\n",
       "      <td>0</td>\n",
       "      <td>0</td>\n",
       "      <td>0</td>\n",
       "      <td>0</td>\n",
       "      <td>0</td>\n",
       "    </tr>\n",
       "    <tr>\n",
       "      <th>4</th>\n",
       "      <td>244</td>\n",
       "      <td>1.160010</td>\n",
       "      <td>-1.382248</td>\n",
       "      <td>-1.160010</td>\n",
       "      <td>-1.382248</td>\n",
       "      <td>9</td>\n",
       "      <td>0</td>\n",
       "      <td>32</td>\n",
       "      <td>14</td>\n",
       "      <td>0.0</td>\n",
       "      <td>...</td>\n",
       "      <td>0</td>\n",
       "      <td>0</td>\n",
       "      <td>1</td>\n",
       "      <td>0</td>\n",
       "      <td>0</td>\n",
       "      <td>0</td>\n",
       "      <td>0</td>\n",
       "      <td>0</td>\n",
       "      <td>0</td>\n",
       "      <td>0</td>\n",
       "    </tr>\n",
       "  </tbody>\n",
       "</table>\n",
       "<p>5 rows × 220 columns</p>\n",
       "</div>"
      ],
      "text/plain": [
       "   game_event_id       lat     loc_x     loc_y       lon  minutes_remaining  \\\n",
       "0             12  1.035226 -1.491267 -1.035226 -1.491267                 10   \n",
       "1             35 -0.496218 -0.982514  0.496218 -0.982514                  7   \n",
       "2             43 -0.949979  1.188769  0.949979  1.188769                  6   \n",
       "3            155  1.035226 -0.064942 -1.035226 -0.064942                  6   \n",
       "4            244  1.160010 -1.382248 -1.160010 -1.382248                  9   \n",
       "\n",
       "   playoffs  seconds_remaining  shot_distance  shot_made_flag      ...       \\\n",
       "0         0                 22             15             0.0      ...        \n",
       "1         0                 45             16             1.0      ...        \n",
       "2         0                 52             22             0.0      ...        \n",
       "3         0                 19              0             1.0      ...        \n",
       "4         0                 32             14             0.0      ...        \n",
       "\n",
       "   opponent_PHI  opponent_PHX  opponent_POR  opponent_SAC  opponent_SAS  \\\n",
       "0             0             0             1             0             0   \n",
       "1             0             0             1             0             0   \n",
       "2             0             0             1             0             0   \n",
       "3             0             0             1             0             0   \n",
       "4             0             0             1             0             0   \n",
       "\n",
       "   opponent_SEA  opponent_TOR  opponent_UTA  opponent_VAN  opponent_WAS  \n",
       "0             0             0             0             0             0  \n",
       "1             0             0             0             0             0  \n",
       "2             0             0             0             0             0  \n",
       "3             0             0             0             0             0  \n",
       "4             0             0             0             0             0  \n",
       "\n",
       "[5 rows x 220 columns]"
      ]
     },
     "execution_count": 15,
     "metadata": {},
     "output_type": "execute_result"
    }
   ],
   "source": [
    "cont_variables = ['lat', 'loc_x', 'loc_y', 'lon']\n",
    "scaled_cont_features = {}\n",
    "for each in cont_variables:\n",
    "    mean, std = data[each].mean(), data[each].std()\n",
    "    scaled_cont_features[each] = [mean, std]\n",
    "    data.loc[:, each] = (data[each] - mean)/std\n",
    "\n",
    "data.head()"
   ]
  },
  {
   "cell_type": "markdown",
   "metadata": {},
   "source": [
    "We also scale `game_event_id`, `minutes_remaining`, `seconds_remaining` and `shot_distance` to lie within the interval $[0,1]$"
   ]
  },
  {
   "cell_type": "code",
   "execution_count": 16,
   "metadata": {},
   "outputs": [
    {
     "data": {
      "text/html": [
       "<div>\n",
       "<table border=\"1\" class=\"dataframe\">\n",
       "  <thead>\n",
       "    <tr style=\"text-align: right;\">\n",
       "      <th></th>\n",
       "      <th>game_event_id</th>\n",
       "      <th>lat</th>\n",
       "      <th>loc_x</th>\n",
       "      <th>loc_y</th>\n",
       "      <th>lon</th>\n",
       "      <th>minutes_remaining</th>\n",
       "      <th>playoffs</th>\n",
       "      <th>seconds_remaining</th>\n",
       "      <th>shot_distance</th>\n",
       "      <th>shot_made_flag</th>\n",
       "      <th>...</th>\n",
       "      <th>opponent_PHI</th>\n",
       "      <th>opponent_PHX</th>\n",
       "      <th>opponent_POR</th>\n",
       "      <th>opponent_SAC</th>\n",
       "      <th>opponent_SAS</th>\n",
       "      <th>opponent_SEA</th>\n",
       "      <th>opponent_TOR</th>\n",
       "      <th>opponent_UTA</th>\n",
       "      <th>opponent_VAN</th>\n",
       "      <th>opponent_WAS</th>\n",
       "    </tr>\n",
       "  </thead>\n",
       "  <tbody>\n",
       "    <tr>\n",
       "      <th>0</th>\n",
       "      <td>0.015361</td>\n",
       "      <td>1.035226</td>\n",
       "      <td>-1.491267</td>\n",
       "      <td>-1.035226</td>\n",
       "      <td>-1.491267</td>\n",
       "      <td>0.909091</td>\n",
       "      <td>0</td>\n",
       "      <td>0.372881</td>\n",
       "      <td>0.189873</td>\n",
       "      <td>0.0</td>\n",
       "      <td>...</td>\n",
       "      <td>0</td>\n",
       "      <td>0</td>\n",
       "      <td>1</td>\n",
       "      <td>0</td>\n",
       "      <td>0</td>\n",
       "      <td>0</td>\n",
       "      <td>0</td>\n",
       "      <td>0</td>\n",
       "      <td>0</td>\n",
       "      <td>0</td>\n",
       "    </tr>\n",
       "    <tr>\n",
       "      <th>1</th>\n",
       "      <td>0.050691</td>\n",
       "      <td>-0.496218</td>\n",
       "      <td>-0.982514</td>\n",
       "      <td>0.496218</td>\n",
       "      <td>-0.982514</td>\n",
       "      <td>0.636364</td>\n",
       "      <td>0</td>\n",
       "      <td>0.762712</td>\n",
       "      <td>0.202532</td>\n",
       "      <td>1.0</td>\n",
       "      <td>...</td>\n",
       "      <td>0</td>\n",
       "      <td>0</td>\n",
       "      <td>1</td>\n",
       "      <td>0</td>\n",
       "      <td>0</td>\n",
       "      <td>0</td>\n",
       "      <td>0</td>\n",
       "      <td>0</td>\n",
       "      <td>0</td>\n",
       "      <td>0</td>\n",
       "    </tr>\n",
       "    <tr>\n",
       "      <th>2</th>\n",
       "      <td>0.062980</td>\n",
       "      <td>-0.949979</td>\n",
       "      <td>1.188769</td>\n",
       "      <td>0.949979</td>\n",
       "      <td>1.188769</td>\n",
       "      <td>0.545455</td>\n",
       "      <td>0</td>\n",
       "      <td>0.881356</td>\n",
       "      <td>0.278481</td>\n",
       "      <td>0.0</td>\n",
       "      <td>...</td>\n",
       "      <td>0</td>\n",
       "      <td>0</td>\n",
       "      <td>1</td>\n",
       "      <td>0</td>\n",
       "      <td>0</td>\n",
       "      <td>0</td>\n",
       "      <td>0</td>\n",
       "      <td>0</td>\n",
       "      <td>0</td>\n",
       "      <td>0</td>\n",
       "    </tr>\n",
       "    <tr>\n",
       "      <th>3</th>\n",
       "      <td>0.235023</td>\n",
       "      <td>1.035226</td>\n",
       "      <td>-0.064942</td>\n",
       "      <td>-1.035226</td>\n",
       "      <td>-0.064942</td>\n",
       "      <td>0.545455</td>\n",
       "      <td>0</td>\n",
       "      <td>0.322034</td>\n",
       "      <td>0.000000</td>\n",
       "      <td>1.0</td>\n",
       "      <td>...</td>\n",
       "      <td>0</td>\n",
       "      <td>0</td>\n",
       "      <td>1</td>\n",
       "      <td>0</td>\n",
       "      <td>0</td>\n",
       "      <td>0</td>\n",
       "      <td>0</td>\n",
       "      <td>0</td>\n",
       "      <td>0</td>\n",
       "      <td>0</td>\n",
       "    </tr>\n",
       "    <tr>\n",
       "      <th>4</th>\n",
       "      <td>0.371736</td>\n",
       "      <td>1.160010</td>\n",
       "      <td>-1.382248</td>\n",
       "      <td>-1.160010</td>\n",
       "      <td>-1.382248</td>\n",
       "      <td>0.818182</td>\n",
       "      <td>0</td>\n",
       "      <td>0.542373</td>\n",
       "      <td>0.177215</td>\n",
       "      <td>0.0</td>\n",
       "      <td>...</td>\n",
       "      <td>0</td>\n",
       "      <td>0</td>\n",
       "      <td>1</td>\n",
       "      <td>0</td>\n",
       "      <td>0</td>\n",
       "      <td>0</td>\n",
       "      <td>0</td>\n",
       "      <td>0</td>\n",
       "      <td>0</td>\n",
       "      <td>0</td>\n",
       "    </tr>\n",
       "  </tbody>\n",
       "</table>\n",
       "<p>5 rows × 220 columns</p>\n",
       "</div>"
      ],
      "text/plain": [
       "   game_event_id       lat     loc_x     loc_y       lon  minutes_remaining  \\\n",
       "0       0.015361  1.035226 -1.491267 -1.035226 -1.491267           0.909091   \n",
       "1       0.050691 -0.496218 -0.982514  0.496218 -0.982514           0.636364   \n",
       "2       0.062980 -0.949979  1.188769  0.949979  1.188769           0.545455   \n",
       "3       0.235023  1.035226 -0.064942 -1.035226 -0.064942           0.545455   \n",
       "4       0.371736  1.160010 -1.382248 -1.160010 -1.382248           0.818182   \n",
       "\n",
       "   playoffs  seconds_remaining  shot_distance  shot_made_flag      ...       \\\n",
       "0         0           0.372881       0.189873             0.0      ...        \n",
       "1         0           0.762712       0.202532             1.0      ...        \n",
       "2         0           0.881356       0.278481             0.0      ...        \n",
       "3         0           0.322034       0.000000             1.0      ...        \n",
       "4         0           0.542373       0.177215             0.0      ...        \n",
       "\n",
       "   opponent_PHI  opponent_PHX  opponent_POR  opponent_SAC  opponent_SAS  \\\n",
       "0             0             0             1             0             0   \n",
       "1             0             0             1             0             0   \n",
       "2             0             0             1             0             0   \n",
       "3             0             0             1             0             0   \n",
       "4             0             0             1             0             0   \n",
       "\n",
       "   opponent_SEA  opponent_TOR  opponent_UTA  opponent_VAN  opponent_WAS  \n",
       "0             0             0             0             0             0  \n",
       "1             0             0             0             0             0  \n",
       "2             0             0             0             0             0  \n",
       "3             0             0             0             0             0  \n",
       "4             0             0             0             0             0  \n",
       "\n",
       "[5 rows x 220 columns]"
      ]
     },
     "execution_count": 16,
     "metadata": {},
     "output_type": "execute_result"
    }
   ],
   "source": [
    "interv_variables = ['game_event_id', 'minutes_remaining', 'seconds_remaining', 'shot_distance', 'shot_id']\n",
    "scaled_interv_features = {}\n",
    "for each in interv_variables:\n",
    "    minn, maxx = data[each].min(), data[each].max()\n",
    "    scaled_interv_features[each] = [minn, maxx]\n",
    "    data.loc[:, each] = (data[each] - minn)/(maxx - minn)\n",
    "\n",
    "data.head()"
   ]
  },
  {
   "cell_type": "markdown",
   "metadata": {},
   "source": [
    "## Building Models\n",
    "\n",
    "Here we construct models to predict whether or not kobe will make a given shot. In particular, we'll try a few things: \n",
    "\n",
    "  1) Training models on randomly selected shots throughout Kobe's career, and then for a given shot we\n",
    "  haven't seen try to predict if that shot will go in. This is clearly a naive way to train a model and make\n",
    "  \"predictions\". This is analogous to trying to \"predict\" if the jays will win a game knowing that they won the \n",
    "  world series that year - knowing this likely means they had a good team, and in turn are more likely to win \n",
    "  throughout that season.\n",
    "  \n",
    "  2) Training/validating the models on shots from the early part of Kobe's career, and then for a given shot taken \n",
    "  at any point after (chronologically) we'll try to predict if that shot will go in.\n",
    "  \n",
    "  3) We'll also try training the models on a \"historical\" data set of fixed size (say a data set consisting of \n",
    "  10000 sequential shots) and then make predictions for the next game."
   ]
  },
  {
   "cell_type": "markdown",
   "metadata": {},
   "source": [
    "## Prediction Paradigm #1:"
   ]
  },
  {
   "cell_type": "markdown",
   "metadata": {},
   "source": [
    "### Train, Validation and Test Sets\n",
    "\n",
    "We now split the data up into training and testing sets. Creation of the validation set will be handled by TFLearn. We use the `to_categorical` function on the labels, yielding two output units, so that we can use the softmax function to classify the data."
   ]
  },
  {
   "cell_type": "code",
   "execution_count": 14,
   "metadata": {
    "collapsed": true
   },
   "outputs": [],
   "source": [
    "X = data.drop('shot_made_flag', axis=1).as_matrix()\n",
    "Y = (data['shot_made_flag'] == 1.0).astype(np.int_)\n",
    "records = len(Y)\n",
    "\n",
    "shuffle = np.arange(records)\n",
    "np.random.shuffle(shuffle)\n",
    "test_fraction = 0.9\n",
    "\n",
    "train_split, test_split = shuffle[:int(records*test_fraction)], shuffle[int(records*test_fraction):]\n",
    "trainX, trainY = X[train_split, :], to_categorical(Y.values[train_split], 2)\n",
    "testX, testY = X[test_split, :], to_categorical(Y.values[test_split], 2)"
   ]
  },
  {
   "cell_type": "markdown",
   "metadata": {},
   "source": [
    "### SKLearn"
   ]
  },
  {
   "cell_type": "code",
   "execution_count": 15,
   "metadata": {},
   "outputs": [
    {
     "name": "stdout",
     "output_type": "stream",
     "text": [
      "Naive Bayes accuracy:  0.615564202335\n"
     ]
    }
   ],
   "source": [
    "# initialize model\n",
    "clfNB = GaussianNB() \n",
    "\n",
    "# training \n",
    "# we dont use trainY because GaussianNB only wants out output variable\n",
    "clfNB.fit(trainX, Y.values[train_split])\n",
    "\n",
    "# make predictions\n",
    "predNB = clfNB.predict(testX)\n",
    "\n",
    "# output model accuracy on the test set \n",
    "print(\"Naive Bayes accuracy: \", accuracy_score(Y.values[test_split], predNB))"
   ]
  },
  {
   "cell_type": "markdown",
   "metadata": {},
   "source": [
    "### TFLearn\n",
    "\n",
    "#### Network Building"
   ]
  },
  {
   "cell_type": "code",
   "execution_count": 45,
   "metadata": {
    "collapsed": true
   },
   "outputs": [],
   "source": [
    "# Network building\n",
    "def build_model_1(h1, lr):\n",
    "    # This resets all parameters and variables, leave this here\n",
    "    tf.reset_default_graph()\n",
    "    \n",
    "    net = tflearn.input_data([None, 218])                       # input\n",
    "    net = tflearn.fully_connected(net, h1, activation='ReLU')   # hidden1\n",
    "    net = tflearn.fully_connected(net, 2, activation='softmax') # output\n",
    "    net = tflearn.regression(net, optimizer='sgd', learning_rate=lr, loss='categorical_crossentropy')\n",
    "    \n",
    "    model = tflearn.DNN(net)\n",
    "    return model\n",
    "\n",
    "def build_model_2(h1, h2, lr):\n",
    "    # This resets all parameters and variables, leave this here\n",
    "    tf.reset_default_graph()\n",
    "    \n",
    "    net = tflearn.input_data([None, 218])                       # input\n",
    "    net = tflearn.fully_connected(net, h1, activation='ReLU')   # hidden1\n",
    "    net = tflearn.fully_connected(net, h2, activation='ReLU')   # hidden2\n",
    "    net = tflearn.fully_connected(net, 2, activation='softmax') # output\n",
    "    net = tflearn.regression(net, optimizer='sgd', learning_rate=lr, loss='categorical_crossentropy')\n",
    "    \n",
    "    model = tflearn.DNN(net)\n",
    "    return model\n",
    "\n",
    "def build_model_3(h1, h2, h3, lr):\n",
    "    # This resets all parameters and variables, leave this here\n",
    "    tf.reset_default_graph()\n",
    "    \n",
    "    net = tflearn.input_data([None, 218])                       # input\n",
    "    net = tflearn.fully_connected(net, h1, activation='ReLU')   # hidden1\n",
    "    net = tflearn.fully_connected(net, h2, activation='ReLU')   # hidden2\n",
    "    net = tflearn.fully_connected(net, h3, activation='ReLU')   # hidden3\n",
    "    net = tflearn.fully_connected(net, 2, activation='softmax') # output\n",
    "    net = tflearn.regression(net, optimizer='sgd', learning_rate=lr, loss='categorical_crossentropy')\n",
    "    \n",
    "    model = tflearn.DNN(net)\n",
    "    return model"
   ]
  },
  {
   "cell_type": "markdown",
   "metadata": {},
   "source": [
    "#### Initialization and Training"
   ]
  },
  {
   "cell_type": "code",
   "execution_count": 17,
   "metadata": {
    "collapsed": true
   },
   "outputs": [],
   "source": [
    "# initialize model1 (1 hidden layer)\n",
    "model1 = build_model_1(50, 0.1)"
   ]
  },
  {
   "cell_type": "code",
   "execution_count": 18,
   "metadata": {},
   "outputs": [
    {
     "name": "stdout",
     "output_type": "stream",
     "text": [
      "Training Step: 4074  | total loss: \u001b[1m\u001b[32m0.60906\u001b[0m\u001b[0m | time: 0.414s\n",
      "| SGD | epoch: 025 | loss: 0.60906 - acc: 0.6693 -- iter: 20736/20814\n",
      "Training Step: 4075  | total loss: \u001b[1m\u001b[32m0.59811\u001b[0m\u001b[0m | time: 1.424s\n",
      "| SGD | epoch: 025 | loss: 0.59811 - acc: 0.6805 | val_loss: 0.60861 - val_acc: 0.6853 -- iter: 20814/20814\n",
      "--\n"
     ]
    }
   ],
   "source": [
    "# training\n",
    "model1.fit(trainX, trainY, validation_set=0.1, show_metric=True, batch_size=128, n_epoch=25)"
   ]
  },
  {
   "cell_type": "code",
   "execution_count": 19,
   "metadata": {
    "collapsed": true
   },
   "outputs": [],
   "source": [
    "# initialize the model2 (2 hidden layer)\n",
    "model2 = build_model_2(70, 20, 0.1)"
   ]
  },
  {
   "cell_type": "code",
   "execution_count": 20,
   "metadata": {},
   "outputs": [
    {
     "name": "stdout",
     "output_type": "stream",
     "text": [
      "Training Step: 4074  | total loss: \u001b[1m\u001b[32m0.59073\u001b[0m\u001b[0m | time: 0.431s\n",
      "| SGD | epoch: 025 | loss: 0.59073 - acc: 0.6924 -- iter: 20736/20814\n",
      "Training Step: 4075  | total loss: \u001b[1m\u001b[32m0.59417\u001b[0m\u001b[0m | time: 1.439s\n",
      "| SGD | epoch: 025 | loss: 0.59417 - acc: 0.6896 | val_loss: 0.61452 - val_acc: 0.6680 -- iter: 20814/20814\n",
      "--\n"
     ]
    }
   ],
   "source": [
    "# training\n",
    "model2.fit(trainX, trainY, validation_set=0.1, show_metric=True, batch_size=128, n_epoch=25)"
   ]
  },
  {
   "cell_type": "code",
   "execution_count": 26,
   "metadata": {
    "collapsed": true
   },
   "outputs": [],
   "source": [
    "# initialize the model3 (3 hidden layer)\n",
    "model3 = build_model_3(120, 60, 20, 0.1)"
   ]
  },
  {
   "cell_type": "code",
   "execution_count": 27,
   "metadata": {},
   "outputs": [
    {
     "name": "stdout",
     "output_type": "stream",
     "text": [
      "Training Step: 4074  | total loss: \u001b[1m\u001b[32m0.60668\u001b[0m\u001b[0m | time: 0.493s\n",
      "| SGD | epoch: 025 | loss: 0.60668 - acc: 0.6837 -- iter: 20736/20814\n",
      "Training Step: 4075  | total loss: \u001b[1m\u001b[32m0.60574\u001b[0m\u001b[0m | time: 1.503s\n",
      "| SGD | epoch: 025 | loss: 0.60574 - acc: 0.6809 | val_loss: 0.60327 - val_acc: 0.6814 -- iter: 20814/20814\n",
      "--\n"
     ]
    }
   ],
   "source": [
    "# training\n",
    "model3.fit(trainX, trainY, validation_set=0.1, show_metric=True, batch_size=128, n_epoch=25)"
   ]
  },
  {
   "cell_type": "markdown",
   "metadata": {},
   "source": [
    "#### Testing"
   ]
  },
  {
   "cell_type": "markdown",
   "metadata": {},
   "source": [
    "One hidden layer network"
   ]
  },
  {
   "cell_type": "code",
   "execution_count": 28,
   "metadata": {},
   "outputs": [
    {
     "name": "stdout",
     "output_type": "stream",
     "text": [
      "Test accuracy:  0.681712062257\n"
     ]
    }
   ],
   "source": [
    "predictions = (np.array(model1.predict(testX))[:,0] >= 0.5).astype(np.int_)\n",
    "test_accuracy = np.mean(predictions == testY[:,0], axis=0)\n",
    "print(\"Test accuracy: \", test_accuracy)"
   ]
  },
  {
   "cell_type": "markdown",
   "metadata": {},
   "source": [
    "Two hidden layer network"
   ]
  },
  {
   "cell_type": "code",
   "execution_count": 29,
   "metadata": {},
   "outputs": [
    {
     "name": "stdout",
     "output_type": "stream",
     "text": [
      "Test accuracy:  0.671206225681\n"
     ]
    }
   ],
   "source": [
    "predictions = (np.array(model2.predict(testX))[:,0] >= 0.5).astype(np.int_)\n",
    "test_accuracy = np.mean(predictions == testY[:,0], axis=0)\n",
    "print(\"Test accuracy: \", test_accuracy)"
   ]
  },
  {
   "cell_type": "markdown",
   "metadata": {},
   "source": [
    "Three hidden layer network"
   ]
  },
  {
   "cell_type": "code",
   "execution_count": 30,
   "metadata": {},
   "outputs": [
    {
     "name": "stdout",
     "output_type": "stream",
     "text": [
      "Test accuracy:  0.678988326848\n"
     ]
    }
   ],
   "source": [
    "predictions = (np.array(model3.predict(testX))[:,0] >= 0.5).astype(np.int_)\n",
    "test_accuracy = np.mean(predictions == testY[:,0], axis=0)\n",
    "print(\"Test accuracy: \", test_accuracy)"
   ]
  },
  {
   "cell_type": "markdown",
   "metadata": {
    "collapsed": true
   },
   "source": [
    "## Prediction paradigm #2:"
   ]
  },
  {
   "cell_type": "code",
   "execution_count": 30,
   "metadata": {
    "collapsed": true
   },
   "outputs": [],
   "source": [
    "test_fraction = 0.9\n",
    "valid_fraction = 0.75\n",
    "\n",
    "testX, testY = X[int(records*test_fraction):, :], to_categorical(Y.values[int(records*test_fraction):], 2)\n",
    "validX, validY = X[int(records*valid_fraction):int(records*test_fraction), :], \\\n",
    "                 to_categorical(Y.values[int(records*valid_fraction):int(records*test_fraction)], 2)\n",
    "trainX, trainY = X[:int(records*valid_fraction), :], to_categorical(Y.values[:int(records*valid_fraction)], 2)"
   ]
  },
  {
   "cell_type": "markdown",
   "metadata": {},
   "source": [
    "### SKLearn"
   ]
  },
  {
   "cell_type": "code",
   "execution_count": 43,
   "metadata": {},
   "outputs": [
    {
     "name": "stdout",
     "output_type": "stream",
     "text": [
      "Naive Bayes accuracy:  0.613229571984\n"
     ]
    }
   ],
   "source": [
    "# initialize model\n",
    "clfNB = GaussianNB() \n",
    "\n",
    "# training \n",
    "# we dont use trainY because GaussianNB only wants out output variable\n",
    "clfNB.fit(np.append(trainX, validX, axis=0), Y.values[:int(records*test_fraction)])\n",
    "\n",
    "# make predictions\n",
    "predNB = clfNB.predict(testX)\n",
    "\n",
    "# output model accuracy on the test set \n",
    "print(\"Naive Bayes accuracy: \", accuracy_score(Y.values[int(records*test_fraction):], predNB))"
   ]
  },
  {
   "cell_type": "markdown",
   "metadata": {},
   "source": [
    "#### Initialization and Training"
   ]
  },
  {
   "cell_type": "code",
   "execution_count": 92,
   "metadata": {
    "collapsed": true
   },
   "outputs": [],
   "source": [
    "# initialize model1 (1 hidden layer)\n",
    "model1 = build_model_1(13, 0.2) \n",
    "# 50, 0.2, 30-35 epochs ~68% validation accuracy\n",
    "# 13, 0.2, 30-35 epochs ~68% validation accuracy"
   ]
  },
  {
   "cell_type": "code",
   "execution_count": 93,
   "metadata": {},
   "outputs": [
    {
     "name": "stdout",
     "output_type": "stream",
     "text": [
      "Training Step: 5284  | total loss: \u001b[1m\u001b[32m0.58206\u001b[0m\u001b[0m | time: 0.363s\n",
      "| SGD | epoch: 035 | loss: 0.58206 - acc: 0.6958 -- iter: 19200/19272\n",
      "Training Step: 5285  | total loss: \u001b[1m\u001b[32m0.59025\u001b[0m\u001b[0m | time: 1.374s\n",
      "| SGD | epoch: 035 | loss: 0.59025 - acc: 0.6872 | val_loss: 0.61172 - val_acc: 0.6843 -- iter: 19272/19272\n",
      "--\n"
     ]
    }
   ],
   "source": [
    "# training\n",
    "model1.fit(trainX, trainY, validation_set=(validX, validY), show_metric=True, batch_size=128, n_epoch=35)"
   ]
  },
  {
   "cell_type": "code",
   "execution_count": 127,
   "metadata": {
    "collapsed": true
   },
   "outputs": [],
   "source": [
    "# initialize the model2 (2 hidden layer)\n",
    "model2 = build_model_2(10, 10, 0.2)\n",
    "# 60, 15, 0.2, 25-30 epochs ~68% validation accuracy\n",
    "# 10, 10, 0.2, 30-40 epochs ~68% validation accuracy"
   ]
  },
  {
   "cell_type": "code",
   "execution_count": 134,
   "metadata": {},
   "outputs": [
    {
     "name": "stdout",
     "output_type": "stream",
     "text": [
      "Training Step: 7549  | total loss: \u001b[1m\u001b[32m0.57116\u001b[0m\u001b[0m | time: 0.392s\n",
      "| SGD | epoch: 050 | loss: 0.57116 - acc: 0.6994 -- iter: 19200/19272\n",
      "Training Step: 7550  | total loss: \u001b[1m\u001b[32m0.57137\u001b[0m\u001b[0m | time: 1.400s\n",
      "| SGD | epoch: 050 | loss: 0.57137 - acc: 0.6998 | val_loss: 0.62073 - val_acc: 0.6789 -- iter: 19272/19272\n",
      "--\n"
     ]
    }
   ],
   "source": [
    "# training\n",
    "model2.fit(trainX, trainY, validation_set=(validX, validY), show_metric=True, batch_size=128, n_epoch=35)"
   ]
  },
  {
   "cell_type": "code",
   "execution_count": 160,
   "metadata": {
    "collapsed": true
   },
   "outputs": [],
   "source": [
    "# initialize the model3 (3 hidden layer)\n",
    "model3 = build_model_3(100, 40, 5, 0.3)\n",
    "# 100, 40, 5, 0.3, 25-30 epochs ~68% validation accuracy"
   ]
  },
  {
   "cell_type": "code",
   "execution_count": 161,
   "metadata": {},
   "outputs": [
    {
     "name": "stdout",
     "output_type": "stream",
     "text": [
      "Training Step: 4529  | total loss: \u001b[1m\u001b[32m0.60995\u001b[0m\u001b[0m | time: 0.435s\n",
      "| SGD | epoch: 030 | loss: 0.60995 - acc: 0.6601 -- iter: 19200/19272\n",
      "Training Step: 4530  | total loss: \u001b[1m\u001b[32m0.60735\u001b[0m\u001b[0m | time: 1.441s\n",
      "| SGD | epoch: 030 | loss: 0.60735 - acc: 0.6605 | val_loss: 0.62023 - val_acc: 0.6799 -- iter: 19272/19272\n",
      "--\n"
     ]
    }
   ],
   "source": [
    "# training\n",
    "model3.fit(trainX, trainY, validation_set=(validX, validY), show_metric=True, batch_size=128, n_epoch=30)"
   ]
  },
  {
   "cell_type": "markdown",
   "metadata": {},
   "source": [
    "#### Testing"
   ]
  },
  {
   "cell_type": "markdown",
   "metadata": {},
   "source": [
    "One hidden layer network"
   ]
  },
  {
   "cell_type": "code",
   "execution_count": 165,
   "metadata": {},
   "outputs": [
    {
     "name": "stdout",
     "output_type": "stream",
     "text": [
      "Test accuracy:  0.670817120623\n"
     ]
    }
   ],
   "source": [
    "predictions = (np.array(model1.predict(testX))[:,0] >= 0.5).astype(np.int_)\n",
    "test_accuracy = np.mean(predictions == testY[:,0], axis=0)\n",
    "print(\"Test accuracy: \", test_accuracy)"
   ]
  },
  {
   "cell_type": "markdown",
   "metadata": {},
   "source": [
    "Two hidden layer network"
   ]
  },
  {
   "cell_type": "code",
   "execution_count": 163,
   "metadata": {},
   "outputs": [
    {
     "name": "stdout",
     "output_type": "stream",
     "text": [
      "Test accuracy:  0.673929961089\n"
     ]
    }
   ],
   "source": [
    "predictions = (np.array(model2.predict(testX))[:,0] >= 0.5).astype(np.int_)\n",
    "test_accuracy = np.mean(predictions == testY[:,0], axis=0)\n",
    "print(\"Test accuracy: \", test_accuracy)"
   ]
  },
  {
   "cell_type": "markdown",
   "metadata": {},
   "source": [
    "Three hidden layer network"
   ]
  },
  {
   "cell_type": "code",
   "execution_count": 164,
   "metadata": {},
   "outputs": [
    {
     "name": "stdout",
     "output_type": "stream",
     "text": [
      "Test accuracy:  0.674708171206\n"
     ]
    }
   ],
   "source": [
    "predictions = (np.array(model3.predict(testX))[:,0] >= 0.5).astype(np.int_)\n",
    "test_accuracy = np.mean(predictions == testY[:,0], axis=0)\n",
    "print(\"Test accuracy: \", test_accuracy)"
   ]
  }
 ],
 "metadata": {
  "kernelspec": {
   "display_name": "Python 3",
   "language": "python",
   "name": "python3"
  },
  "language_info": {
   "codemirror_mode": {
    "name": "ipython",
    "version": 3
   },
   "file_extension": ".py",
   "mimetype": "text/x-python",
   "name": "python",
   "nbconvert_exporter": "python",
   "pygments_lexer": "ipython3",
   "version": "3.5.3"
  }
 },
 "nbformat": 4,
 "nbformat_minor": 2
}
